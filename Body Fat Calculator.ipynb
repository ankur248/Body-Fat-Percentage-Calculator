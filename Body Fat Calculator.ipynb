{
 "cells": [
  {
   "cell_type": "code",
   "execution_count": 1,
   "metadata": {
    "collapsed": false
   },
   "outputs": [
    {
     "name": "stderr",
     "output_type": "stream",
     "text": [
      "C:\\Users\\Dell\\Anaconda4\\lib\\site-packages\\sklearn\\cross_validation.py:41: DeprecationWarning: This module was deprecated in version 0.18 in favor of the model_selection module into which all the refactored classes and functions are moved. Also note that the interface of the new CV iterators are different from that of this module. This module will be removed in 0.20.\n",
      "  \"This module will be removed in 0.20.\", DeprecationWarning)\n"
     ]
    }
   ],
   "source": [
    "import pandas as pd\n",
    "import numpy as np\n",
    "from sklearn import preprocessing,cross_validation,svm\n",
    "import matplotlib.pyplot as plt \n",
    "from matplotlib import style \n",
    "import pickle\n",
    "from sklearn.linear_model import LinearRegression"
   ]
  },
  {
   "cell_type": "code",
   "execution_count": 10,
   "metadata": {
    "collapsed": false,
    "scrolled": false
   },
   "outputs": [
    {
     "name": "stdout",
     "output_type": "stream",
     "text": [
      "Dataset_Shape=(250, 16)\n",
      "   Subject  Density    BF  Age  Weight  Height  Neck  Chest  Abdomen    Hip  \\\n",
      "0        1   1.0708  12.3   23  154.25   67.75  36.2   93.1     85.2   94.5   \n",
      "1        2   1.0853   6.1   22  173.25   72.25  38.5   93.6     83.0   98.7   \n",
      "2        3   1.0414  25.3   22  154.00   66.25  34.0   95.8     87.9   99.2   \n",
      "3        4   1.0751  10.4   26  184.75   72.25  37.4  101.8     86.4  101.2   \n",
      "4        5   1.0340  28.7   24  184.25   71.25  34.4   97.3    100.0  101.9   \n",
      "\n",
      "   Thigh  Knee  Ankle  Biceps  Forearm  Wrist  \n",
      "0   59.0  37.3   21.9    32.0     27.4   17.1  \n",
      "1   58.7  37.3   23.4    30.5     28.9   18.2  \n",
      "2   59.6  38.9   24.0    28.8     25.2   16.6  \n",
      "3   60.1  37.3   22.8    32.4     29.4   18.2  \n",
      "4   63.2  42.2   24.0    32.2     27.7   17.7  \n"
     ]
    }
   ],
   "source": [
    "df = pd.read_excel(r\"C:\\Users\\Dell\\Datasets\\BFnew_Dataset.xlsx\")\n",
    "print(\"Dataset_Shape=\"+str(df.shape))\n",
    "print(df.head())"
   ]
  },
  {
   "cell_type": "code",
   "execution_count": 11,
   "metadata": {
    "collapsed": false
   },
   "outputs": [
    {
     "name": "stdout",
     "output_type": "stream",
     "text": [
      "New_Dataset_Shape=(250, 14)\n",
      "   Density  Weight  Height  Neck  Chest  Abdomen    Hip  Thigh  Knee  Ankle  \\\n",
      "0   1.0708  154.25   67.75  36.2   93.1     85.2   94.5   59.0  37.3   21.9   \n",
      "1   1.0853  173.25   72.25  38.5   93.6     83.0   98.7   58.7  37.3   23.4   \n",
      "2   1.0414  154.00   66.25  34.0   95.8     87.9   99.2   59.6  38.9   24.0   \n",
      "3   1.0751  184.75   72.25  37.4  101.8     86.4  101.2   60.1  37.3   22.8   \n",
      "4   1.0340  184.25   71.25  34.4   97.3    100.0  101.9   63.2  42.2   24.0   \n",
      "\n",
      "   Biceps  Forearm  Wrist    BF  \n",
      "0    32.0     27.4   17.1  12.3  \n",
      "1    30.5     28.9   18.2   6.1  \n",
      "2    28.8     25.2   16.6  25.3  \n",
      "3    32.4     29.4   18.2  10.4  \n",
      "4    32.2     27.7   17.7  28.7  \n"
     ]
    }
   ],
   "source": [
    "df=df[['Density','Weight','Height','Neck','Chest','Abdomen','Hip','Thigh','Knee','Ankle','Biceps','Forearm','Wrist','BF',]]\n",
    "print(\"New_Dataset_Shape=\"+str(df.shape))\n",
    "print(df.head())\n"
   ]
  },
  {
   "cell_type": "code",
   "execution_count": 12,
   "metadata": {
    "collapsed": false
   },
   "outputs": [
    {
     "name": "stdout",
     "output_type": "stream",
     "text": [
      "(250, 13) (250,)\n"
     ]
    }
   ],
   "source": [
    "X=np.array(df[['Density','Weight','Height','Neck','Chest','Abdomen','Hip','Thigh','Knee','Ankle','Biceps','Forearm','Wrist',]])\n",
    "X=preprocessing.scale(X)\n",
    "Y=np.array(df['BF'])\n",
    "print(X.shape , Y.shape)"
   ]
  },
  {
   "cell_type": "code",
   "execution_count": 13,
   "metadata": {
    "collapsed": true
   },
   "outputs": [],
   "source": [
    "X_train, X_test, Y_train , Y_test=cross_validation.train_test_split(X,Y,test_size=0.2)"
   ]
  },
  {
   "cell_type": "code",
   "execution_count": 14,
   "metadata": {
    "collapsed": false
   },
   "outputs": [
    {
     "data": {
      "text/plain": [
       "LinearRegression(copy_X=True, fit_intercept=True, n_jobs=-1, normalize=False)"
      ]
     },
     "execution_count": 14,
     "metadata": {},
     "output_type": "execute_result"
    }
   ],
   "source": [
    "clf=LinearRegression(n_jobs=-1)\n",
    "clf.fit(X_train, Y_train)"
   ]
  },
  {
   "cell_type": "code",
   "execution_count": 15,
   "metadata": {
    "collapsed": false
   },
   "outputs": [
    {
     "name": "stdout",
     "output_type": "stream",
     "text": [
      "0.964237338463\n"
     ]
    }
   ],
   "source": [
    "accuracy=clf.score(X_test, Y_test)\n",
    "print(accuracy)"
   ]
  },
  {
   "cell_type": "code",
   "execution_count": 16,
   "metadata": {
    "collapsed": false
   },
   "outputs": [
    {
     "name": "stdout",
     "output_type": "stream",
     "text": [
      "Predicted= [ 23.22487952  25.08319445] , Actual= [[ 26. ]\n",
      " [ 31.9]]\n"
     ]
    }
   ],
   "source": [
    "predict=pd.read_excel(r\"C:\\Users\\Dell\\Datasets\\BF_test.xlsx\")\n",
    "X_predict=np.array(predict[['Density','Weight','Height','Neck','Chest','Abdomen','Hip','Thigh','Knee','Ankle','Biceps','Forearm','Wrist',]])\n",
    "Y_predict=np.array(predict[['BF']])\n",
    "print(\"Predicted=\",clf.predict(X_predict),\", Actual=\",Y_predict)"
   ]
  },
  {
   "cell_type": "code",
   "execution_count": null,
   "metadata": {
    "collapsed": true
   },
   "outputs": [],
   "source": []
  },
  {
   "cell_type": "code",
   "execution_count": null,
   "metadata": {
    "collapsed": true
   },
   "outputs": [],
   "source": []
  }
 ],
 "metadata": {
  "anaconda-cloud": {},
  "kernelspec": {
   "display_name": "Python [default]",
   "language": "python",
   "name": "python3"
  },
  "language_info": {
   "codemirror_mode": {
    "name": "ipython",
    "version": 3
   },
   "file_extension": ".py",
   "mimetype": "text/x-python",
   "name": "python",
   "nbconvert_exporter": "python",
   "pygments_lexer": "ipython3",
   "version": "3.5.2"
  }
 },
 "nbformat": 4,
 "nbformat_minor": 1
}
